{
 "cells": [
  {
   "cell_type": "code",
   "execution_count": 1,
   "metadata": {},
   "outputs": [],
   "source": [
    "from qdax_es.utils.restart import FixedGens\n",
    "from flax.struct import PyTreeNode\n",
    "\n",
    "class EmitterState(PyTreeNode):\n",
    "    restart_state: None"
   ]
  },
  {
   "cell_type": "code",
   "execution_count": 4,
   "metadata": {},
   "outputs": [
    {
     "name": "stdout",
     "output_type": "stream",
     "text": [
      "0 False\n",
      "1 False\n",
      "2 False\n",
      "3 False\n",
      "4 True\n",
      "5 False\n",
      "6 False\n",
      "7 False\n",
      "8 False\n",
      "9 False\n",
      "10 True\n",
      "11 False\n"
     ]
    }
   ],
   "source": [
    "restarter = FixedGens(5)\n",
    "restart_state = restarter.init()\n",
    "state = EmitterState(restart_state=restart_state)\n",
    "\n",
    "s = []\n",
    "for i in range(12):\n",
    "    state = restarter.update(state, None)\n",
    "    s.append(state)\n",
    "    bool = restarter.restart_criteria(state, None)\n",
    "    print(i, bool)"
   ]
  },
  {
   "cell_type": "code",
   "execution_count": 11,
   "metadata": {},
   "outputs": [
    {
     "ename": "TracerIntegerConversionError",
     "evalue": "The __index__() method was called on traced array with shape int32[].\nThis BatchTracer with object id 140304706562384 was created on line:\n  /tmp/ipykernel_966253/2590179247.py:8 (<module>)\nSee https://jax.readthedocs.io/en/latest/errors.html#jax.errors.TracerIntegerConversionError",
     "output_type": "error",
     "traceback": [
      "\u001b[0;31m---------------------------------------------------------------------------\u001b[0m",
      "\u001b[0;31mTracerIntegerConversionError\u001b[0m              Traceback (most recent call last)",
      "\u001b[1;32m/home/paul/QDax_ES/dev.ipynb Cell 3\u001b[0m line \u001b[0;36m8\n\u001b[1;32m      <a href='vscode-notebook-cell://ssh-remote%2Bsureli5/home/paul/QDax_ES/dev.ipynb#W3sdnNjb2RlLXJlbW90ZQ%3D%3D?line=4'>5</a>\u001b[0m     \u001b[39mreturn\u001b[39;00m states[index]\n\u001b[1;32m      <a href='vscode-notebook-cell://ssh-remote%2Bsureli5/home/paul/QDax_ES/dev.ipynb#W3sdnNjb2RlLXJlbW90ZQ%3D%3D?line=6'>7</a>\u001b[0m indices \u001b[39m=\u001b[39m jnp\u001b[39m.\u001b[39marange(\u001b[39mlen\u001b[39m(s))\n\u001b[0;32m----> <a href='vscode-notebook-cell://ssh-remote%2Bsureli5/home/paul/QDax_ES/dev.ipynb#W3sdnNjb2RlLXJlbW90ZQ%3D%3D?line=7'>8</a>\u001b[0m jax\u001b[39m.\u001b[39;49mvmap(\n\u001b[1;32m      <a href='vscode-notebook-cell://ssh-remote%2Bsureli5/home/paul/QDax_ES/dev.ipynb#W3sdnNjb2RlLXJlbW90ZQ%3D%3D?line=8'>9</a>\u001b[0m     use_state,\n\u001b[1;32m     <a href='vscode-notebook-cell://ssh-remote%2Bsureli5/home/paul/QDax_ES/dev.ipynb#W3sdnNjb2RlLXJlbW90ZQ%3D%3D?line=9'>10</a>\u001b[0m     in_axes\u001b[39m=\u001b[39;49m(\u001b[39mNone\u001b[39;49;00m, \u001b[39m0\u001b[39;49m)\n\u001b[1;32m     <a href='vscode-notebook-cell://ssh-remote%2Bsureli5/home/paul/QDax_ES/dev.ipynb#W3sdnNjb2RlLXJlbW90ZQ%3D%3D?line=10'>11</a>\u001b[0m )(s, indices)\n",
      "    \u001b[0;31m[... skipping hidden 3 frame]\u001b[0m\n",
      "\u001b[1;32m/home/paul/QDax_ES/dev.ipynb Cell 3\u001b[0m line \u001b[0;36m5\n\u001b[1;32m      <a href='vscode-notebook-cell://ssh-remote%2Bsureli5/home/paul/QDax_ES/dev.ipynb#W3sdnNjb2RlLXJlbW90ZQ%3D%3D?line=3'>4</a>\u001b[0m \u001b[39mdef\u001b[39;00m \u001b[39muse_state\u001b[39m(states, index):\n\u001b[0;32m----> <a href='vscode-notebook-cell://ssh-remote%2Bsureli5/home/paul/QDax_ES/dev.ipynb#W3sdnNjb2RlLXJlbW90ZQ%3D%3D?line=4'>5</a>\u001b[0m     \u001b[39mreturn\u001b[39;00m states[index]\n",
      "File \u001b[0;32m~/miniconda3/envs/py_evosax/lib/python3.9/site-packages/jax/_src/core.py:619\u001b[0m, in \u001b[0;36mTracer.__index__\u001b[0;34m(self)\u001b[0m\n\u001b[1;32m    618\u001b[0m \u001b[39mdef\u001b[39;00m \u001b[39m__index__\u001b[39m(\u001b[39mself\u001b[39m):\n\u001b[0;32m--> 619\u001b[0m   \u001b[39mraise\u001b[39;00m TracerIntegerConversionError(\u001b[39mself\u001b[39m)\n",
      "\u001b[0;31mTracerIntegerConversionError\u001b[0m: The __index__() method was called on traced array with shape int32[].\nThis BatchTracer with object id 140304706562384 was created on line:\n  /tmp/ipykernel_966253/2590179247.py:8 (<module>)\nSee https://jax.readthedocs.io/en/latest/errors.html#jax.errors.TracerIntegerConversionError"
     ]
    }
   ],
   "source": [
    "import jax\n",
    "import jax.numpy as jnp\n",
    "\n",
    "def use_state(states, index):\n",
    "    return states[index]\n",
    "\n",
    "indices = jnp.arange(len(s))\n",
    "jax.vmap(\n",
    "    use_state,\n",
    "    in_axes=(None, 0)\n",
    ")(s, indices)"
   ]
  },
  {
   "cell_type": "code",
   "execution_count": 12,
   "metadata": {},
   "outputs": [
    {
     "data": {
      "text/plain": [
       "Array([0, 1, 2, 3, 4], dtype=int32)"
      ]
     },
     "execution_count": 12,
     "metadata": {},
     "output_type": "execute_result"
    }
   ],
   "source": [
    "a = jnp.arange(10)\n",
    "jax.lax.dynamic_slice(a, (0,), (5,))"
   ]
  },
  {
   "cell_type": "code",
   "execution_count": 13,
   "metadata": {},
   "outputs": [
    {
     "data": {
      "text/plain": [
       "[Array([0, 1], dtype=int32),\n",
       " Array([2, 3], dtype=int32),\n",
       " Array([4, 5], dtype=int32),\n",
       " Array([6, 7], dtype=int32),\n",
       " Array([8, 9], dtype=int32)]"
      ]
     },
     "execution_count": 13,
     "metadata": {},
     "output_type": "execute_result"
    }
   ],
   "source": [
    "jnp.split(a, 5)"
   ]
  },
  {
   "cell_type": "code",
   "execution_count": 20,
   "metadata": {},
   "outputs": [
    {
     "data": {
      "text/plain": [
       "EmitterState(restart_state=RestartState(generations=Array([0, 0, 0, 0, 0], dtype=int32, weak_type=True)))"
      ]
     },
     "execution_count": 20,
     "metadata": {},
     "output_type": "execute_result"
    }
   ],
   "source": [
    "# Make a tree with 5 copies of state\n",
    "jax.tree_util.tree_map(\n",
    "    lambda x: jnp.repeat(jnp.expand_dims(x, axis=0), 5),\n",
    "    state\n",
    "    )"
   ]
  },
  {
   "cell_type": "code",
   "execution_count": 19,
   "metadata": {},
   "outputs": [
    {
     "data": {
      "text/plain": [
       "TestState(index=Array([0, 1, 2, 3, 4], dtype=int32), value=Array([[[0., 0., 0.],\n",
       "        [0., 0., 0.],\n",
       "        [0., 0., 0.]],\n",
       "\n",
       "       [[1., 0., 0.],\n",
       "        [0., 1., 0.],\n",
       "        [0., 0., 1.]],\n",
       "\n",
       "       [[2., 0., 0.],\n",
       "        [0., 2., 0.],\n",
       "        [0., 0., 2.]],\n",
       "\n",
       "       [[3., 0., 0.],\n",
       "        [0., 3., 0.],\n",
       "        [0., 0., 3.]],\n",
       "\n",
       "       [[4., 0., 0.],\n",
       "        [0., 4., 0.],\n",
       "        [0., 0., 4.]]], dtype=float32))"
      ]
     },
     "execution_count": 19,
     "metadata": {},
     "output_type": "execute_result"
    }
   ],
   "source": [
    "from qdax_es.utils.restart import FixedGens\n",
    "from flax.struct import PyTreeNode\n",
    "import jax\n",
    "import jax.numpy as jnp\n",
    "\n",
    "\n",
    "\n",
    "class TestState(PyTreeNode):\n",
    "    index: None\n",
    "    value: int\n",
    "\n",
    "# Create a tree with 5 states, each with a generatiosn number from a\n",
    "\n",
    "def make_state(i):\n",
    "    return TestState(index=i, value = jnp.eye(3)*i)\n",
    "\n",
    "def make_batch(n):\n",
    "    return jax.vmap(make_state)(jnp.arange(5) + n)\n",
    "\n",
    "states = make_batch(0)\n",
    "states"
   ]
  },
  {
   "cell_type": "code",
   "execution_count": 20,
   "metadata": {},
   "outputs": [
    {
     "name": "stdout",
     "output_type": "stream",
     "text": [
      "(5, 2)\n",
      "s TestState(index=Array(0, dtype=int32), value=Array([[0., 0., 0.],\n",
      "       [0., 0., 0.],\n",
      "       [0., 0., 0.]], dtype=float32)) | i [ 0 10]\n",
      "s TestState(index=Array(1, dtype=int32), value=Array([[1., 0., 0.],\n",
      "       [0., 1., 0.],\n",
      "       [0., 0., 1.]], dtype=float32)) | i [20 30]\n",
      "s TestState(index=Array(2, dtype=int32), value=Array([[2., 0., 0.],\n",
      "       [0., 2., 0.],\n",
      "       [0., 0., 2.]], dtype=float32)) | i [40 50]\n",
      "s TestState(index=Array(3, dtype=int32), value=Array([[3., 0., 0.],\n",
      "       [0., 3., 0.],\n",
      "       [0., 0., 3.]], dtype=float32)) | i [60 70]\n",
      "s TestState(index=Array(4, dtype=int32), value=Array([[4., 0., 0.],\n",
      "       [0., 4., 0.],\n",
      "       [0., 0., 4.]], dtype=float32)) | i [80 90]\n"
     ]
    },
    {
     "data": {
      "text/plain": [
       "Array([[ 0, 10],\n",
       "       [20, 30],\n",
       "       [40, 50],\n",
       "       [60, 70],\n",
       "       [80, 90]], dtype=int32)"
      ]
     },
     "execution_count": 20,
     "metadata": {},
     "output_type": "execute_result"
    }
   ],
   "source": [
    "def update(s, i):\n",
    "    jax.debug.print('s {} | i {}', s, i)\n",
    "    return i\n",
    "    # return state.index + i\n",
    "\n",
    "data = jnp.split(jnp.arange(10)*10, 5)\n",
    "data = jnp.array(data)\n",
    "# data = jnp.arange(5)*10\n",
    "print(data.shape)\n",
    "\n",
    "jax.vmap(\n",
    "    lambda i, state: update(state, i),\n",
    "    in_axes=(0, 0),\n",
    "    out_axes=0\n",
    "    )(data, states)"
   ]
  },
  {
   "cell_type": "code",
   "execution_count": 12,
   "metadata": {},
   "outputs": [
    {
     "data": {
      "text/plain": [
       "TestState(index=(4, 5), value=(4, 5, 3, 3))"
      ]
     },
     "execution_count": 12,
     "metadata": {},
     "output_type": "execute_result"
    }
   ],
   "source": [
    "def net_shape(net):\n",
    "    return jax.tree_map(lambda x: x.shape, net)\n",
    "\n",
    "state_groups = jax.vmap(\n",
    "    make_batch,\n",
    "    in_axes=0\n",
    ")(jnp.arange(4)*10)\n",
    "\n",
    "net_shape(state_groups)"
   ]
  },
  {
   "cell_type": "code",
   "execution_count": 13,
   "metadata": {},
   "outputs": [
    {
     "data": {
      "text/plain": [
       "TestState(index=(20,), value=(20, 3, 3))"
      ]
     },
     "execution_count": 13,
     "metadata": {},
     "output_type": "execute_result"
    }
   ],
   "source": [
    "# Flatten the first dim\n",
    "states = jax.tree_map(\n",
    "        lambda x: jnp.concatenate(x, axis=0),\n",
    "        state_groups\n",
    "    )\n",
    "net_shape(states)"
   ]
  },
  {
   "cell_type": "code",
   "execution_count": 102,
   "metadata": {},
   "outputs": [
    {
     "name": "stdout",
     "output_type": "stream",
     "text": [
      "s [0 1 2 3 4] | i [Array(0, dtype=int32), Array(20, dtype=int32), Array(40, dtype=int32), Array(60, dtype=int32), Array(80, dtype=int32)]\n",
      "s [0 1 2 3 4] | i [Array(10, dtype=int32), Array(30, dtype=int32), Array(50, dtype=int32), Array(70, dtype=int32), Array(90, dtype=int32)]\n"
     ]
    },
    {
     "data": {
      "text/plain": [
       "[Array([ 0, 10], dtype=int32),\n",
       " Array([20, 30], dtype=int32),\n",
       " Array([40, 50], dtype=int32),\n",
       " Array([60, 70], dtype=int32),\n",
       " Array([80, 90], dtype=int32)]"
      ]
     },
     "execution_count": 102,
     "metadata": {},
     "output_type": "execute_result"
    }
   ],
   "source": [
    "jax.vmap(\n",
    "    lambda state, i: update(state, i),\n",
    "    in_axes=(None, 0),\n",
    "    out_axes=0\n",
    "    )(states, data)"
   ]
  },
  {
   "cell_type": "code",
   "execution_count": 16,
   "metadata": {},
   "outputs": [
    {
     "data": {
      "text/plain": [
       "(5, 2)"
      ]
     },
     "execution_count": 16,
     "metadata": {},
     "output_type": "execute_result"
    }
   ],
   "source": [
    "def net_shape(net):\n",
    "    return jax.tree_map(lambda x: x.shape, net)\n",
    "\n",
    "net_shape(jnp.array(data))"
   ]
  },
  {
   "cell_type": "code",
   "execution_count": 1,
   "metadata": {},
   "outputs": [],
   "source": [
    "import os \n",
    "os.environ[\"JAX_ENABLE_X64\"] = \"True\""
   ]
  },
  {
   "cell_type": "code",
   "execution_count": 2,
   "metadata": {},
   "outputs": [
    {
     "data": {
      "text/plain": [
       "[cuda(id=0)]"
      ]
     },
     "execution_count": 2,
     "metadata": {},
     "output_type": "execute_result"
    }
   ],
   "source": [
    "import jax\n",
    "from jax import numpy as jnp\n",
    "jax.devices()"
   ]
  },
  {
   "cell_type": "code",
   "execution_count": 3,
   "metadata": {},
   "outputs": [
    {
     "data": {
      "text/plain": [
       "Array([1, 2, 3], dtype=int64)"
      ]
     },
     "execution_count": 3,
     "metadata": {},
     "output_type": "execute_result"
    }
   ],
   "source": [
    "a = jnp.array([1, 2, 3])\n",
    "a"
   ]
  },
  {
   "cell_type": "code",
   "execution_count": 4,
   "metadata": {},
   "outputs": [
    {
     "data": {
      "text/plain": [
       "Array([1., 2., 3.], dtype=float64)"
      ]
     },
     "execution_count": 4,
     "metadata": {},
     "output_type": "execute_result"
    }
   ],
   "source": [
    "a.astype(jnp.float64)"
   ]
  },
  {
   "cell_type": "code",
   "execution_count": null,
   "metadata": {},
   "outputs": [],
   "source": []
  }
 ],
 "metadata": {
  "kernelspec": {
   "display_name": "py_evosax",
   "language": "python",
   "name": "python3"
  },
  "language_info": {
   "codemirror_mode": {
    "name": "ipython",
    "version": 3
   },
   "file_extension": ".py",
   "mimetype": "text/x-python",
   "name": "python",
   "nbconvert_exporter": "python",
   "pygments_lexer": "ipython3",
   "version": "3.11.9"
  },
  "orig_nbformat": 4
 },
 "nbformat": 4,
 "nbformat_minor": 2
}
